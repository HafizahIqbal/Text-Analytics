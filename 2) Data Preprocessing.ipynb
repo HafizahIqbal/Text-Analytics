{
 "cells": [
  {
   "cell_type": "code",
   "execution_count": 1,
   "metadata": {},
   "outputs": [],
   "source": [
    "# Importing necessary library\n",
    "import pandas as pd\n",
    "import numpy as np\n",
    "import nltk\n",
    "import os\n",
    "import nltk.corpus"
   ]
  },
  {
   "cell_type": "code",
   "execution_count": 2,
   "metadata": {},
   "outputs": [],
   "source": [
    "string = '''ഞാൻ അവിടെ പോയപ്പോൾ ഒരു പൂച്ചക്കുട്ടിയെ  കണ്ടു'''"
   ]
  },
  {
   "cell_type": "code",
   "execution_count": 3,
   "metadata": {},
   "outputs": [
    {
     "name": "stdout",
     "output_type": "stream",
     "text": [
      "['ഞാൻ', 'അവിടെ', 'പോയപ്പോൾ', 'ഒരു', 'പൂച്ചക്കുട്ടിയെ', 'കണ്ടു']\n"
     ]
    },
    {
     "data": {
      "text/plain": [
       "['ഞാൻ', 'അവിടെ', 'പോയപ്പോൾ', 'ഒരു', 'പൂച്ചക്കുട്ടിയെ', 'കണ്ടു']"
      ]
     },
     "execution_count": 3,
     "metadata": {},
     "output_type": "execute_result"
    }
   ],
   "source": [
    "#Tokenization\n",
    "\n",
    "tokens = string.split()\n",
    "print(tokens)\n",
    "\n",
    "#OR\n",
    "\n",
    "from nltk.tokenize import word_tokenize\n",
    "# Passing the string text into word tokenize for breaking the sentences\n",
    "token = word_tokenize(string)\n",
    "token"
   ]
  },
  {
   "cell_type": "code",
   "execution_count": 4,
   "metadata": {},
   "outputs": [],
   "source": [
    "#Stop word removal\n",
    "\n",
    "def remove_stopwords(wordlist):\n",
    "    stopwords = ['ഞാൻ','ഒരു','അവിടെ']\n",
    "    return[ w for w in wordlist if w not in stopwords]"
   ]
  },
  {
   "cell_type": "code",
   "execution_count": 5,
   "metadata": {},
   "outputs": [
    {
     "data": {
      "text/plain": [
       "['പോയപ്പോൾ', 'പൂച്ചക്കുട്ടിയെ', 'കണ്ടു']"
      ]
     },
     "execution_count": 5,
     "metadata": {},
     "output_type": "execute_result"
    }
   ],
   "source": [
    "remove_stopwords(tokens)"
   ]
  },
  {
   "cell_type": "code",
   "execution_count": 6,
   "metadata": {},
   "outputs": [],
   "source": [
    "#Stemming\n",
    "\n",
    "def my_stemmer(wordlist):\n",
    "    stemmer_dict = {\n",
    "        'പോവുക' : ('പോയപ്പോൾ','പോയാൽ'),\n",
    "        'പൂച്ചക്കുട്ടി' : ('പൂച്ചക്കുട്ടിയെ'),\n",
    "        'കാണുക' : ('കണ്ടു','കണ്ടിട്ടുണ്ട്','കാണാലോ')\n",
    "    }\n",
    "\n",
    "    result = []\n",
    "    for word in wordlist:\n",
    "        for key, value in stemmer_dict.items():\n",
    "            if word in value:\n",
    "                result.append(key)\n",
    "               \n",
    "    return result"
   ]
  },
  {
   "cell_type": "code",
   "execution_count": 8,
   "metadata": {},
   "outputs": [
    {
     "name": "stdout",
     "output_type": "stream",
     "text": [
      "['പോവുക', 'പൂച്ചക്കുട്ടി', 'കാണുക']\n"
     ]
    }
   ],
   "source": [
    "print(my_stemmer(tokens))"
   ]
  }
 ],
 "metadata": {
  "kernelspec": {
   "display_name": "Python 3",
   "language": "python",
   "name": "python3"
  },
  "language_info": {
   "codemirror_mode": {
    "name": "ipython",
    "version": 3
   },
   "file_extension": ".py",
   "mimetype": "text/x-python",
   "name": "python",
   "nbconvert_exporter": "python",
   "pygments_lexer": "ipython3",
   "version": "3.8.3"
  }
 },
 "nbformat": 4,
 "nbformat_minor": 4
}
